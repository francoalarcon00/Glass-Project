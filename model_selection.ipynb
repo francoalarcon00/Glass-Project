{
 "cells": [
  {
   "cell_type": "code",
   "execution_count": 20,
   "metadata": {},
   "outputs": [],
   "source": [
    "import autosklearn.classification as auto_c\n",
    "from sklearn.model_selection import train_test_split\n",
    "import sklearn\n",
    "import pandas as pd\n",
    "import numpy as np\n",
    "\n",
    "import warnings\n",
    "warnings.filterwarnings('ignore')"
   ]
  },
  {
   "cell_type": "code",
   "execution_count": 21,
   "metadata": {},
   "outputs": [],
   "source": [
    "df = pd.read_csv('cleaned_glass.csv')"
   ]
  },
  {
   "cell_type": "code",
   "execution_count": 22,
   "metadata": {},
   "outputs": [],
   "source": [
    "numeric = df.select_dtypes(include=np.number).columns.to_list()\n",
    "numeric.remove('index')\n",
    "numeric.remove('Type')\n",
    "\n",
    "x = df[numeric]\n",
    "y = df['Type']\n",
    "\n",
    "x_train, x_test, y_train, y_test = train_test_split(x, y, test_size=0.20, random_state=5)"
   ]
  },
  {
   "cell_type": "code",
   "execution_count": 23,
   "metadata": {},
   "outputs": [
    {
     "data": {
      "text/html": [
       "<style>#sk-container-id-3 {color: black;background-color: white;}#sk-container-id-3 pre{padding: 0;}#sk-container-id-3 div.sk-toggleable {background-color: white;}#sk-container-id-3 label.sk-toggleable__label {cursor: pointer;display: block;width: 100%;margin-bottom: 0;padding: 0.3em;box-sizing: border-box;text-align: center;}#sk-container-id-3 label.sk-toggleable__label-arrow:before {content: \"▸\";float: left;margin-right: 0.25em;color: #696969;}#sk-container-id-3 label.sk-toggleable__label-arrow:hover:before {color: black;}#sk-container-id-3 div.sk-estimator:hover label.sk-toggleable__label-arrow:before {color: black;}#sk-container-id-3 div.sk-toggleable__content {max-height: 0;max-width: 0;overflow: hidden;text-align: left;background-color: #f0f8ff;}#sk-container-id-3 div.sk-toggleable__content pre {margin: 0.2em;color: black;border-radius: 0.25em;background-color: #f0f8ff;}#sk-container-id-3 input.sk-toggleable__control:checked~div.sk-toggleable__content {max-height: 200px;max-width: 100%;overflow: auto;}#sk-container-id-3 input.sk-toggleable__control:checked~label.sk-toggleable__label-arrow:before {content: \"▾\";}#sk-container-id-3 div.sk-estimator input.sk-toggleable__control:checked~label.sk-toggleable__label {background-color: #d4ebff;}#sk-container-id-3 div.sk-label input.sk-toggleable__control:checked~label.sk-toggleable__label {background-color: #d4ebff;}#sk-container-id-3 input.sk-hidden--visually {border: 0;clip: rect(1px 1px 1px 1px);clip: rect(1px, 1px, 1px, 1px);height: 1px;margin: -1px;overflow: hidden;padding: 0;position: absolute;width: 1px;}#sk-container-id-3 div.sk-estimator {font-family: monospace;background-color: #f0f8ff;border: 1px dotted black;border-radius: 0.25em;box-sizing: border-box;margin-bottom: 0.5em;}#sk-container-id-3 div.sk-estimator:hover {background-color: #d4ebff;}#sk-container-id-3 div.sk-parallel-item::after {content: \"\";width: 100%;border-bottom: 1px solid gray;flex-grow: 1;}#sk-container-id-3 div.sk-label:hover label.sk-toggleable__label {background-color: #d4ebff;}#sk-container-id-3 div.sk-serial::before {content: \"\";position: absolute;border-left: 1px solid gray;box-sizing: border-box;top: 0;bottom: 0;left: 50%;z-index: 0;}#sk-container-id-3 div.sk-serial {display: flex;flex-direction: column;align-items: center;background-color: white;padding-right: 0.2em;padding-left: 0.2em;position: relative;}#sk-container-id-3 div.sk-item {position: relative;z-index: 1;}#sk-container-id-3 div.sk-parallel {display: flex;align-items: stretch;justify-content: center;background-color: white;position: relative;}#sk-container-id-3 div.sk-item::before, #sk-container-id-3 div.sk-parallel-item::before {content: \"\";position: absolute;border-left: 1px solid gray;box-sizing: border-box;top: 0;bottom: 0;left: 50%;z-index: -1;}#sk-container-id-3 div.sk-parallel-item {display: flex;flex-direction: column;z-index: 1;position: relative;background-color: white;}#sk-container-id-3 div.sk-parallel-item:first-child::after {align-self: flex-end;width: 50%;}#sk-container-id-3 div.sk-parallel-item:last-child::after {align-self: flex-start;width: 50%;}#sk-container-id-3 div.sk-parallel-item:only-child::after {width: 0;}#sk-container-id-3 div.sk-dashed-wrapped {border: 1px dashed gray;margin: 0 0.4em 0.5em 0.4em;box-sizing: border-box;padding-bottom: 0.4em;background-color: white;}#sk-container-id-3 div.sk-label label {font-family: monospace;font-weight: bold;display: inline-block;line-height: 1.2em;}#sk-container-id-3 div.sk-label-container {text-align: center;}#sk-container-id-3 div.sk-container {/* jupyter's `normalize.less` sets `[hidden] { display: none; }` but bootstrap.min.css set `[hidden] { display: none !important; }` so we also need the `!important` here to be able to override the default hidden behavior on the sphinx rendered scikit-learn.org. See: https://github.com/scikit-learn/scikit-learn/issues/21755 */display: inline-block !important;position: relative;}#sk-container-id-3 div.sk-text-repr-fallback {display: none;}</style><div id=\"sk-container-id-3\" class=\"sk-top-container\"><div class=\"sk-text-repr-fallback\"><pre>AutoSklearnClassifier(per_run_time_limit=30, time_left_for_this_task=180)</pre><b>In a Jupyter environment, please rerun this cell to show the HTML representation or trust the notebook. <br />On GitHub, the HTML representation is unable to render, please try loading this page with nbviewer.org.</b></div><div class=\"sk-container\" hidden><div class=\"sk-item\"><div class=\"sk-estimator sk-toggleable\"><input class=\"sk-toggleable__control sk-hidden--visually\" id=\"sk-estimator-id-3\" type=\"checkbox\" checked><label for=\"sk-estimator-id-3\" class=\"sk-toggleable__label sk-toggleable__label-arrow\">AutoSklearnClassifier</label><div class=\"sk-toggleable__content\"><pre>AutoSklearnClassifier(per_run_time_limit=30, time_left_for_this_task=180)</pre></div></div></div></div></div>"
      ],
      "text/plain": [
       "AutoSklearnClassifier(per_run_time_limit=30, time_left_for_this_task=180)"
      ]
     },
     "execution_count": 23,
     "metadata": {},
     "output_type": "execute_result"
    }
   ],
   "source": [
    "automl = auto_c.AutoSklearnClassifier(\n",
    "    time_left_for_this_task=180,\n",
    "    per_run_time_limit=30,\n",
    ")\n",
    "automl.fit(x_train, y_train, dataset_name='cleaned_glass.csv')"
   ]
  },
  {
   "cell_type": "code",
   "execution_count": 24,
   "metadata": {},
   "outputs": [
    {
     "name": "stdout",
     "output_type": "stream",
     "text": [
      "auto-sklearn results:\n",
      "  Dataset name: cleaned_glass.csv\n",
      "  Metric: accuracy\n",
      "  Best validation score: 0.771930\n",
      "  Number of target algorithm runs: 81\n",
      "  Number of successful target algorithm runs: 80\n",
      "  Number of crashed target algorithm runs: 0\n",
      "  Number of target algorithms that exceeded the time limit: 0\n",
      "  Number of target algorithms that exceeded the memory limit: 1\n",
      "\n"
     ]
    }
   ],
   "source": [
    "print(automl.sprint_statistics())"
   ]
  },
  {
   "cell_type": "code",
   "execution_count": 25,
   "metadata": {},
   "outputs": [
    {
     "name": "stdout",
     "output_type": "stream",
     "text": [
      "          rank  ensemble_weight               type      cost  duration\n",
      "model_id                                                              \n",
      "2            1             0.08      random_forest  0.228070  0.948137\n",
      "45           2             0.02      random_forest  0.245614  1.040564\n",
      "41           3             0.02      random_forest  0.245614  1.013331\n",
      "9            4             0.06      random_forest  0.245614  0.937555\n",
      "40           5             0.06      random_forest  0.263158  1.001486\n",
      "75           6             0.10      random_forest  0.263158  1.094563\n",
      "33           7             0.02      random_forest  0.280702  0.954453\n",
      "48           8             0.02      random_forest  0.280702  0.947617\n",
      "51           9             0.04      random_forest  0.280702  0.922614\n",
      "61          10             0.04      random_forest  0.315789  0.843808\n",
      "67          11             0.22      random_forest  0.315789  1.053630\n",
      "63          12             0.06      random_forest  0.333333  1.031719\n",
      "10          13             0.04      random_forest  0.333333  0.908884\n",
      "20          14             0.02      random_forest  0.368421  0.966204\n",
      "15          15             0.06      liblinear_svc  0.403509  0.583108\n",
      "25          16             0.02  gradient_boosting  0.403509  0.602021\n",
      "72          17             0.08      random_forest  0.403509  0.970368\n",
      "78          18             0.04      random_forest  0.456140  0.924419\n"
     ]
    }
   ],
   "source": [
    "print(automl.leaderboard())"
   ]
  },
  {
   "cell_type": "code",
   "execution_count": 26,
   "metadata": {},
   "outputs": [
    {
     "name": "stdout",
     "output_type": "stream",
     "text": [
      "{2: {'model_id': 2, 'rank': 1, 'cost': 0.22807017543859653, 'ensemble_weight': 0.08, 'data_preprocessor': <autosklearn.pipeline.components.data_preprocessing.DataPreprocessorChoice object at 0x7f9a432ebcd0>, 'balancing': Balancing(random_state=1), 'feature_preprocessor': <autosklearn.pipeline.components.feature_preprocessing.FeaturePreprocessorChoice object at 0x7f9a372d8850>, 'classifier': <autosklearn.pipeline.components.classification.ClassifierChoice object at 0x7f9a372db190>, 'sklearn_classifier': RandomForestClassifier(max_features=3, n_estimators=512, n_jobs=1,\n",
      "                       random_state=1, warm_start=True)}, 9: {'model_id': 9, 'rank': 2, 'cost': 0.24561403508771928, 'ensemble_weight': 0.06, 'data_preprocessor': <autosklearn.pipeline.components.data_preprocessing.DataPreprocessorChoice object at 0x7f9a432ebc10>, 'balancing': Balancing(random_state=1), 'feature_preprocessor': <autosklearn.pipeline.components.feature_preprocessing.FeaturePreprocessorChoice object at 0x7f9a2dd4f820>, 'classifier': <autosklearn.pipeline.components.classification.ClassifierChoice object at 0x7f9a2dd4fd60>, 'sklearn_classifier': RandomForestClassifier(max_features=1, min_samples_split=3, n_estimators=512,\n",
      "                       n_jobs=1, random_state=1, warm_start=True)}, 41: {'model_id': 41, 'rank': 3, 'cost': 0.24561403508771928, 'ensemble_weight': 0.02, 'data_preprocessor': <autosklearn.pipeline.components.data_preprocessing.DataPreprocessorChoice object at 0x7f9a3efa98a0>, 'balancing': Balancing(random_state=1, strategy='weighting'), 'feature_preprocessor': <autosklearn.pipeline.components.feature_preprocessing.FeaturePreprocessorChoice object at 0x7f9a2ffc1840>, 'classifier': <autosklearn.pipeline.components.classification.ClassifierChoice object at 0x7f9a2ffc1ff0>, 'sklearn_classifier': RandomForestClassifier(criterion='entropy', max_features=2, n_estimators=512,\n",
      "                       n_jobs=1, random_state=1, warm_start=True)}, 45: {'model_id': 45, 'rank': 4, 'cost': 0.24561403508771928, 'ensemble_weight': 0.02, 'data_preprocessor': <autosklearn.pipeline.components.data_preprocessing.DataPreprocessorChoice object at 0x7f9a3eb20c40>, 'balancing': Balancing(random_state=1, strategy='weighting'), 'feature_preprocessor': <autosklearn.pipeline.components.feature_preprocessing.FeaturePreprocessorChoice object at 0x7f9a36f68d00>, 'classifier': <autosklearn.pipeline.components.classification.ClassifierChoice object at 0x7f9a36f062f0>, 'sklearn_classifier': RandomForestClassifier(max_features=1, n_estimators=512, n_jobs=1,\n",
      "                       random_state=1, warm_start=True)}, 40: {'model_id': 40, 'rank': 5, 'cost': 0.26315789473684215, 'ensemble_weight': 0.06, 'data_preprocessor': <autosklearn.pipeline.components.data_preprocessing.DataPreprocessorChoice object at 0x7f9a2dd4eef0>, 'balancing': Balancing(random_state=1, strategy='weighting'), 'feature_preprocessor': <autosklearn.pipeline.components.feature_preprocessing.FeaturePreprocessorChoice object at 0x7f9a32dd9cf0>, 'classifier': <autosklearn.pipeline.components.classification.ClassifierChoice object at 0x7f9a32dd8e80>, 'sklearn_classifier': RandomForestClassifier(criterion='entropy', max_features=1, min_samples_leaf=3,\n",
      "                       n_estimators=512, n_jobs=1, random_state=1,\n",
      "                       warm_start=True)}, 75: {'model_id': 75, 'rank': 6, 'cost': 0.26315789473684215, 'ensemble_weight': 0.1, 'data_preprocessor': <autosklearn.pipeline.components.data_preprocessing.DataPreprocessorChoice object at 0x7f9a2ffc3d60>, 'balancing': Balancing(random_state=1), 'feature_preprocessor': <autosklearn.pipeline.components.feature_preprocessing.FeaturePreprocessorChoice object at 0x7f9a32938160>, 'classifier': <autosklearn.pipeline.components.classification.ClassifierChoice object at 0x7f9a32939180>, 'sklearn_classifier': RandomForestClassifier(bootstrap=False, criterion='entropy', max_features=3,\n",
      "                       n_estimators=512, n_jobs=1, random_state=1,\n",
      "                       warm_start=True)}, 33: {'model_id': 33, 'rank': 7, 'cost': 0.2807017543859649, 'ensemble_weight': 0.02, 'data_preprocessor': <autosklearn.pipeline.components.data_preprocessing.DataPreprocessorChoice object at 0x7f9a2de9a470>, 'balancing': Balancing(random_state=1), 'feature_preprocessor': <autosklearn.pipeline.components.feature_preprocessing.FeaturePreprocessorChoice object at 0x7f9a2deb4b20>, 'classifier': <autosklearn.pipeline.components.classification.ClassifierChoice object at 0x7f9a2deb7fd0>, 'sklearn_classifier': RandomForestClassifier(max_features=3, min_samples_leaf=2, n_estimators=512,\n",
      "                       n_jobs=1, random_state=1, warm_start=True)}, 48: {'model_id': 48, 'rank': 8, 'cost': 0.2807017543859649, 'ensemble_weight': 0.02, 'data_preprocessor': <autosklearn.pipeline.components.data_preprocessing.DataPreprocessorChoice object at 0x7f9a32dd9930>, 'balancing': Balancing(random_state=1), 'feature_preprocessor': <autosklearn.pipeline.components.feature_preprocessing.FeaturePreprocessorChoice object at 0x7f9a2dd81120>, 'classifier': <autosklearn.pipeline.components.classification.ClassifierChoice object at 0x7f9a2dd82050>, 'sklearn_classifier': RandomForestClassifier(max_features=5, n_estimators=512, n_jobs=1,\n",
      "                       random_state=1, warm_start=True)}, 51: {'model_id': 51, 'rank': 9, 'cost': 0.2807017543859649, 'ensemble_weight': 0.04, 'data_preprocessor': <autosklearn.pipeline.components.data_preprocessing.DataPreprocessorChoice object at 0x7f9a2ddb2620>, 'balancing': Balancing(random_state=1), 'feature_preprocessor': <autosklearn.pipeline.components.feature_preprocessing.FeaturePreprocessorChoice object at 0x7f9a2ddca410>, 'classifier': <autosklearn.pipeline.components.classification.ClassifierChoice object at 0x7f9a2ddc81f0>, 'sklearn_classifier': RandomForestClassifier(max_features=1, n_estimators=512, n_jobs=1,\n",
      "                       random_state=1, warm_start=True)}, 61: {'model_id': 61, 'rank': 10, 'cost': 0.3157894736842105, 'ensemble_weight': 0.04, 'data_preprocessor': <autosklearn.pipeline.components.data_preprocessing.DataPreprocessorChoice object at 0x7f9a2deb4e50>, 'balancing': Balancing(random_state=1), 'feature_preprocessor': <autosklearn.pipeline.components.feature_preprocessing.FeaturePreprocessorChoice object at 0x7f9a2b4a8370>, 'classifier': <autosklearn.pipeline.components.classification.ClassifierChoice object at 0x7f9a2b4a87f0>, 'sklearn_classifier': RandomForestClassifier(bootstrap=False, max_features=1, min_samples_leaf=3,\n",
      "                       n_estimators=512, n_jobs=1, random_state=1,\n",
      "                       warm_start=True)}, 67: {'model_id': 67, 'rank': 11, 'cost': 0.3157894736842105, 'ensemble_weight': 0.22, 'data_preprocessor': <autosklearn.pipeline.components.data_preprocessing.DataPreprocessorChoice object at 0x7f9a2ffea4a0>, 'balancing': Balancing(random_state=1, strategy='weighting'), 'feature_preprocessor': <autosklearn.pipeline.components.feature_preprocessing.FeaturePreprocessorChoice object at 0x7f9a2b2993f0>, 'classifier': <autosklearn.pipeline.components.classification.ClassifierChoice object at 0x7f9a2b0bd750>, 'sklearn_classifier': RandomForestClassifier(max_features=1, min_samples_split=8, n_estimators=512,\n",
      "                       n_jobs=1, random_state=1, warm_start=True)}, 10: {'model_id': 10, 'rank': 12, 'cost': 0.33333333333333337, 'ensemble_weight': 0.04, 'data_preprocessor': <autosklearn.pipeline.components.data_preprocessing.DataPreprocessorChoice object at 0x7f9a2ddc9180>, 'balancing': Balancing(random_state=1), 'feature_preprocessor': <autosklearn.pipeline.components.feature_preprocessing.FeaturePreprocessorChoice object at 0x7f9a2b1eb220>, 'classifier': <autosklearn.pipeline.components.classification.ClassifierChoice object at 0x7f9a2b1eb9a0>, 'sklearn_classifier': RandomForestClassifier(max_features=4, min_samples_leaf=8, min_samples_split=20,\n",
      "                       n_estimators=512, n_jobs=1, random_state=1,\n",
      "                       warm_start=True)}, 63: {'model_id': 63, 'rank': 13, 'cost': 0.33333333333333337, 'ensemble_weight': 0.06, 'data_preprocessor': <autosklearn.pipeline.components.data_preprocessing.DataPreprocessorChoice object at 0x7f9a2b3e8d60>, 'balancing': Balancing(random_state=1), 'feature_preprocessor': <autosklearn.pipeline.components.feature_preprocessing.FeaturePreprocessorChoice object at 0x7f9a28e01db0>, 'classifier': <autosklearn.pipeline.components.classification.ClassifierChoice object at 0x7f9a28b5f010>, 'sklearn_classifier': RandomForestClassifier(max_features=1, n_estimators=512, n_jobs=1,\n",
      "                       random_state=1, warm_start=True)}, 20: {'model_id': 20, 'rank': 14, 'cost': 0.368421052631579, 'ensemble_weight': 0.02, 'data_preprocessor': <autosklearn.pipeline.components.data_preprocessing.DataPreprocessorChoice object at 0x7f9a2b29aaa0>, 'balancing': Balancing(random_state=1, strategy='weighting'), 'feature_preprocessor': <autosklearn.pipeline.components.feature_preprocessing.FeaturePreprocessorChoice object at 0x7f9a28c1c2b0>, 'classifier': <autosklearn.pipeline.components.classification.ClassifierChoice object at 0x7f9a28c1ca30>, 'sklearn_classifier': RandomForestClassifier(max_features=2, min_samples_split=6, n_estimators=512,\n",
      "                       n_jobs=1, random_state=1, warm_start=True)}, 15: {'model_id': 15, 'rank': 15, 'cost': 0.4035087719298246, 'ensemble_weight': 0.06, 'data_preprocessor': <autosklearn.pipeline.components.data_preprocessing.DataPreprocessorChoice object at 0x7f9a2b0bd450>, 'balancing': Balancing(random_state=1, strategy='weighting'), 'feature_preprocessor': <autosklearn.pipeline.components.feature_preprocessing.FeaturePreprocessorChoice object at 0x7f9a28b93cd0>, 'classifier': <autosklearn.pipeline.components.classification.ClassifierChoice object at 0x7f9a28a4c5e0>, 'sklearn_classifier': LinearSVC(C=999.897948630207, class_weight='balanced', dual=False,\n",
      "          intercept_scaling=1.0, random_state=1, tol=7.067903490334549e-05)}, 25: {'model_id': 25, 'rank': 16, 'cost': 0.4035087719298246, 'ensemble_weight': 0.02, 'data_preprocessor': <autosklearn.pipeline.components.data_preprocessing.DataPreprocessorChoice object at 0x7f9a28e03d30>, 'balancing': Balancing(random_state=1), 'feature_preprocessor': <autosklearn.pipeline.components.feature_preprocessing.FeaturePreprocessorChoice object at 0x7f9a28a4fd30>, 'classifier': <autosklearn.pipeline.components.classification.ClassifierChoice object at 0x7f9a2898c130>, 'sklearn_classifier': HistGradientBoostingClassifier(early_stopping=True,\n",
      "                               l2_regularization=1.3153561911035717e-10,\n",
      "                               learning_rate=0.025345400213312417, loss='auto',\n",
      "                               max_iter=128, max_leaf_nodes=16,\n",
      "                               min_samples_leaf=27, n_iter_no_change=5,\n",
      "                               random_state=1,\n",
      "                               validation_fraction=0.2361478213622299,\n",
      "                               warm_start=True)}, 72: {'model_id': 72, 'rank': 17, 'cost': 0.4035087719298246, 'ensemble_weight': 0.08, 'data_preprocessor': <autosklearn.pipeline.components.data_preprocessing.DataPreprocessorChoice object at 0x7f9a28b5c310>, 'balancing': Balancing(random_state=1, strategy='weighting'), 'feature_preprocessor': <autosklearn.pipeline.components.feature_preprocessing.FeaturePreprocessorChoice object at 0x7f9a2643a170>, 'classifier': <autosklearn.pipeline.components.classification.ClassifierChoice object at 0x7f9a2643a230>, 'sklearn_classifier': RandomForestClassifier(criterion='entropy', max_features=1, min_samples_leaf=13,\n",
      "                       min_samples_split=3, n_estimators=512, n_jobs=1,\n",
      "                       random_state=1, warm_start=True)}, 78: {'model_id': 78, 'rank': 18, 'cost': 0.45614035087719296, 'ensemble_weight': 0.04, 'data_preprocessor': <autosklearn.pipeline.components.data_preprocessing.DataPreprocessorChoice object at 0x7f9a28a4d570>, 'balancing': Balancing(random_state=1, strategy='weighting'), 'feature_preprocessor': <autosklearn.pipeline.components.feature_preprocessing.FeaturePreprocessorChoice object at 0x7f9a2643b850>, 'classifier': <autosklearn.pipeline.components.classification.ClassifierChoice object at 0x7f9a2643ba90>, 'sklearn_classifier': RandomForestClassifier(bootstrap=False, max_features=1, min_samples_leaf=15,\n",
      "                       min_samples_split=17, n_estimators=512, n_jobs=1,\n",
      "                       random_state=1, warm_start=True)}}\n"
     ]
    }
   ],
   "source": [
    "print(automl.show_models())"
   ]
  },
  {
   "cell_type": "code",
   "execution_count": 27,
   "metadata": {},
   "outputs": [
    {
     "data": {
      "text/plain": [
       "{'balancing:strategy': 'none',\n",
       " 'classifier:__choice__': 'random_forest',\n",
       " 'data_preprocessor:__choice__': 'feature_type',\n",
       " 'feature_preprocessor:__choice__': 'no_preprocessing',\n",
       " 'classifier:random_forest:bootstrap': 'True',\n",
       " 'classifier:random_forest:criterion': 'gini',\n",
       " 'classifier:random_forest:max_depth': 'None',\n",
       " 'classifier:random_forest:max_features': 0.5,\n",
       " 'classifier:random_forest:max_leaf_nodes': 'None',\n",
       " 'classifier:random_forest:min_impurity_decrease': 0.0,\n",
       " 'classifier:random_forest:min_samples_leaf': 1,\n",
       " 'classifier:random_forest:min_samples_split': 2,\n",
       " 'classifier:random_forest:min_weight_fraction_leaf': 0.0,\n",
       " 'data_preprocessor:feature_type:categorical_transformer:categorical_encoding:__choice__': 'one_hot_encoding',\n",
       " 'data_preprocessor:feature_type:categorical_transformer:category_coalescence:__choice__': 'minority_coalescer',\n",
       " 'data_preprocessor:feature_type:numerical_transformer:imputation:strategy': 'mean',\n",
       " 'data_preprocessor:feature_type:numerical_transformer:rescaling:__choice__': 'standardize',\n",
       " 'data_preprocessor:feature_type:categorical_transformer:category_coalescence:minority_coalescer:minimum_fraction': 0.01}"
      ]
     },
     "execution_count": 27,
     "metadata": {},
     "output_type": "execute_result"
    }
   ],
   "source": [
    "automl.cv_results_['params'][np.argmax(automl.cv_results_['mean_test_score'])]"
   ]
  }
 ],
 "metadata": {
  "kernelspec": {
   "display_name": "Python 3.10.4 64-bit",
   "language": "python",
   "name": "python3"
  },
  "language_info": {
   "codemirror_mode": {
    "name": "ipython",
    "version": 3
   },
   "file_extension": ".py",
   "mimetype": "text/x-python",
   "name": "python",
   "nbconvert_exporter": "python",
   "pygments_lexer": "ipython3",
   "version": "3.10.4"
  },
  "orig_nbformat": 4,
  "vscode": {
   "interpreter": {
    "hash": "916dbcbb3f70747c44a77c7bcd40155683ae19c65e1c03b4aa3499c5328201f1"
   }
  }
 },
 "nbformat": 4,
 "nbformat_minor": 2
}
