{
 "cells": [
  {
   "cell_type": "code",
   "execution_count": 12,
   "metadata": {},
   "outputs": [],
   "source": [
    "import autosklearn.classification as auto_c\n",
    "from sklearn.model_selection import train_test_split\n",
    "import sklearn\n",
    "import pandas as pd\n",
    "import numpy as np\n",
    "\n",
    "import warnings\n",
    "warnings.filterwarnings('ignore')"
   ]
  },
  {
   "cell_type": "code",
   "execution_count": 13,
   "metadata": {},
   "outputs": [],
   "source": [
    "df = pd.read_csv('cleaned_glass.csv')"
   ]
  },
  {
   "cell_type": "code",
   "execution_count": 14,
   "metadata": {},
   "outputs": [],
   "source": [
    "numeric = df.select_dtypes(include=np.number).columns.to_list()\n",
    "numeric.remove('index')\n",
    "numeric.remove('Type')\n",
    "\n",
    "x = df[numeric]\n",
    "y = df['Type']\n",
    "\n",
    "x_train, x_test, y_train, y_test = train_test_split(x, y, test_size=0.20, random_state=5)"
   ]
  },
  {
   "cell_type": "code",
   "execution_count": 15,
   "metadata": {},
   "outputs": [
    {
     "name": "stdout",
     "output_type": "stream",
     "text": [
      "[WARNING] [2022-08-18 21:15:21,070:Client-AutoML(1):cleaned_glass.csv] Capping the per_run_time_limit to 29.0 to have time for a least 2 models in each process.\n"
     ]
    },
    {
     "data": {
      "text/html": [
       "<style>#sk-container-id-2 {color: black;background-color: white;}#sk-container-id-2 pre{padding: 0;}#sk-container-id-2 div.sk-toggleable {background-color: white;}#sk-container-id-2 label.sk-toggleable__label {cursor: pointer;display: block;width: 100%;margin-bottom: 0;padding: 0.3em;box-sizing: border-box;text-align: center;}#sk-container-id-2 label.sk-toggleable__label-arrow:before {content: \"▸\";float: left;margin-right: 0.25em;color: #696969;}#sk-container-id-2 label.sk-toggleable__label-arrow:hover:before {color: black;}#sk-container-id-2 div.sk-estimator:hover label.sk-toggleable__label-arrow:before {color: black;}#sk-container-id-2 div.sk-toggleable__content {max-height: 0;max-width: 0;overflow: hidden;text-align: left;background-color: #f0f8ff;}#sk-container-id-2 div.sk-toggleable__content pre {margin: 0.2em;color: black;border-radius: 0.25em;background-color: #f0f8ff;}#sk-container-id-2 input.sk-toggleable__control:checked~div.sk-toggleable__content {max-height: 200px;max-width: 100%;overflow: auto;}#sk-container-id-2 input.sk-toggleable__control:checked~label.sk-toggleable__label-arrow:before {content: \"▾\";}#sk-container-id-2 div.sk-estimator input.sk-toggleable__control:checked~label.sk-toggleable__label {background-color: #d4ebff;}#sk-container-id-2 div.sk-label input.sk-toggleable__control:checked~label.sk-toggleable__label {background-color: #d4ebff;}#sk-container-id-2 input.sk-hidden--visually {border: 0;clip: rect(1px 1px 1px 1px);clip: rect(1px, 1px, 1px, 1px);height: 1px;margin: -1px;overflow: hidden;padding: 0;position: absolute;width: 1px;}#sk-container-id-2 div.sk-estimator {font-family: monospace;background-color: #f0f8ff;border: 1px dotted black;border-radius: 0.25em;box-sizing: border-box;margin-bottom: 0.5em;}#sk-container-id-2 div.sk-estimator:hover {background-color: #d4ebff;}#sk-container-id-2 div.sk-parallel-item::after {content: \"\";width: 100%;border-bottom: 1px solid gray;flex-grow: 1;}#sk-container-id-2 div.sk-label:hover label.sk-toggleable__label {background-color: #d4ebff;}#sk-container-id-2 div.sk-serial::before {content: \"\";position: absolute;border-left: 1px solid gray;box-sizing: border-box;top: 0;bottom: 0;left: 50%;z-index: 0;}#sk-container-id-2 div.sk-serial {display: flex;flex-direction: column;align-items: center;background-color: white;padding-right: 0.2em;padding-left: 0.2em;position: relative;}#sk-container-id-2 div.sk-item {position: relative;z-index: 1;}#sk-container-id-2 div.sk-parallel {display: flex;align-items: stretch;justify-content: center;background-color: white;position: relative;}#sk-container-id-2 div.sk-item::before, #sk-container-id-2 div.sk-parallel-item::before {content: \"\";position: absolute;border-left: 1px solid gray;box-sizing: border-box;top: 0;bottom: 0;left: 50%;z-index: -1;}#sk-container-id-2 div.sk-parallel-item {display: flex;flex-direction: column;z-index: 1;position: relative;background-color: white;}#sk-container-id-2 div.sk-parallel-item:first-child::after {align-self: flex-end;width: 50%;}#sk-container-id-2 div.sk-parallel-item:last-child::after {align-self: flex-start;width: 50%;}#sk-container-id-2 div.sk-parallel-item:only-child::after {width: 0;}#sk-container-id-2 div.sk-dashed-wrapped {border: 1px dashed gray;margin: 0 0.4em 0.5em 0.4em;box-sizing: border-box;padding-bottom: 0.4em;background-color: white;}#sk-container-id-2 div.sk-label label {font-family: monospace;font-weight: bold;display: inline-block;line-height: 1.2em;}#sk-container-id-2 div.sk-label-container {text-align: center;}#sk-container-id-2 div.sk-container {/* jupyter's `normalize.less` sets `[hidden] { display: none; }` but bootstrap.min.css set `[hidden] { display: none !important; }` so we also need the `!important` here to be able to override the default hidden behavior on the sphinx rendered scikit-learn.org. See: https://github.com/scikit-learn/scikit-learn/issues/21755 */display: inline-block !important;position: relative;}#sk-container-id-2 div.sk-text-repr-fallback {display: none;}</style><div id=\"sk-container-id-2\" class=\"sk-top-container\"><div class=\"sk-text-repr-fallback\"><pre>AutoSklearnClassifier(per_run_time_limit=30, time_left_for_this_task=60)</pre><b>In a Jupyter environment, please rerun this cell to show the HTML representation or trust the notebook. <br />On GitHub, the HTML representation is unable to render, please try loading this page with nbviewer.org.</b></div><div class=\"sk-container\" hidden><div class=\"sk-item\"><div class=\"sk-estimator sk-toggleable\"><input class=\"sk-toggleable__control sk-hidden--visually\" id=\"sk-estimator-id-2\" type=\"checkbox\" checked><label for=\"sk-estimator-id-2\" class=\"sk-toggleable__label sk-toggleable__label-arrow\">AutoSklearnClassifier</label><div class=\"sk-toggleable__content\"><pre>AutoSklearnClassifier(per_run_time_limit=30, time_left_for_this_task=60)</pre></div></div></div></div></div>"
      ],
      "text/plain": [
       "AutoSklearnClassifier(per_run_time_limit=30, time_left_for_this_task=60)"
      ]
     },
     "execution_count": 15,
     "metadata": {},
     "output_type": "execute_result"
    }
   ],
   "source": [
    "automl = auto_c.AutoSklearnClassifier(\n",
    "    time_left_for_this_task=60,\n",
    "    per_run_time_limit=30,\n",
    ")\n",
    "automl.fit(x_train, y_train, dataset_name='cleaned_glass.csv')"
   ]
  },
  {
   "cell_type": "code",
   "execution_count": 16,
   "metadata": {},
   "outputs": [
    {
     "name": "stdout",
     "output_type": "stream",
     "text": [
      "auto-sklearn results:\n",
      "  Dataset name: cleaned_glass.csv\n",
      "  Metric: accuracy\n",
      "  Best validation score: 0.771930\n",
      "  Number of target algorithm runs: 37\n",
      "  Number of successful target algorithm runs: 37\n",
      "  Number of crashed target algorithm runs: 0\n",
      "  Number of target algorithms that exceeded the time limit: 0\n",
      "  Number of target algorithms that exceeded the memory limit: 0\n",
      "\n"
     ]
    }
   ],
   "source": [
    "print(automl.sprint_statistics())"
   ]
  },
  {
   "cell_type": "code",
   "execution_count": 17,
   "metadata": {},
   "outputs": [
    {
     "name": "stdout",
     "output_type": "stream",
     "text": [
      "          rank  ensemble_weight                type      cost  duration\n",
      "model_id                                                               \n",
      "2            1             0.04       random_forest  0.228070  0.937963\n",
      "31           2             0.04       random_forest  0.245614  1.122625\n",
      "9            3             0.12       random_forest  0.245614  0.892093\n",
      "6            4             0.02       random_forest  0.280702  1.307741\n",
      "5            5             0.02       random_forest  0.315789  0.932100\n",
      "10           6             0.06       random_forest  0.333333  0.912602\n",
      "19           7             0.04          libsvm_svc  0.385965  0.489702\n",
      "25           8             0.04   gradient_boosting  0.403509  0.582501\n",
      "28           9             0.02       random_forest  0.421053  0.888974\n",
      "8           10             0.02       random_forest  0.438596  0.861853\n",
      "30          11             0.02       random_forest  0.473684  0.883374\n",
      "4           12             0.02                 lda  0.473684  0.495952\n",
      "13          13             0.02   gradient_boosting  0.491228  0.529405\n",
      "26          14             0.12  passive_aggressive  0.508772  0.454785\n",
      "12          15             0.08                 sgd  0.631579  0.858685\n",
      "36          16             0.10                 qda  0.631579  0.428630\n",
      "38          17             0.06                 qda  0.631579  0.496216\n",
      "29          18             0.12        bernoulli_nb  0.649123  0.507748\n",
      "37          19             0.04                 lda  0.666667  0.493484\n"
     ]
    }
   ],
   "source": [
    "print(automl.leaderboard())"
   ]
  },
  {
   "cell_type": "code",
   "execution_count": 18,
   "metadata": {},
   "outputs": [
    {
     "name": "stdout",
     "output_type": "stream",
     "text": [
      "{2: {'model_id': 2, 'rank': 1, 'cost': 0.22807017543859653, 'ensemble_weight': 0.04000000000000001, 'data_preprocessor': <autosklearn.pipeline.components.data_preprocessing.DataPreprocessorChoice object at 0x7f9a3e90fdf0>, 'balancing': Balancing(random_state=1), 'feature_preprocessor': <autosklearn.pipeline.components.feature_preprocessing.FeaturePreprocessorChoice object at 0x7f9a3e9fe110>, 'classifier': <autosklearn.pipeline.components.classification.ClassifierChoice object at 0x7f9a3e9fddb0>, 'sklearn_classifier': RandomForestClassifier(max_features=3, n_estimators=512, n_jobs=1,\n",
      "                       random_state=1, warm_start=True)}, 9: {'model_id': 9, 'rank': 2, 'cost': 0.24561403508771928, 'ensemble_weight': 0.12000000000000001, 'data_preprocessor': <autosklearn.pipeline.components.data_preprocessing.DataPreprocessorChoice object at 0x7f9a3eb1e590>, 'balancing': Balancing(random_state=1), 'feature_preprocessor': <autosklearn.pipeline.components.feature_preprocessing.FeaturePreprocessorChoice object at 0x7f9a58e2eb30>, 'classifier': <autosklearn.pipeline.components.classification.ClassifierChoice object at 0x7f9a58e2f490>, 'sklearn_classifier': RandomForestClassifier(max_features=1, min_samples_split=3, n_estimators=512,\n",
      "                       n_jobs=1, random_state=1, warm_start=True)}, 31: {'model_id': 31, 'rank': 3, 'cost': 0.24561403508771928, 'ensemble_weight': 0.04000000000000001, 'data_preprocessor': <autosklearn.pipeline.components.data_preprocessing.DataPreprocessorChoice object at 0x7f9a3eb56bc0>, 'balancing': Balancing(random_state=1), 'feature_preprocessor': <autosklearn.pipeline.components.feature_preprocessing.FeaturePreprocessorChoice object at 0x7f9a3ece34c0>, 'classifier': <autosklearn.pipeline.components.classification.ClassifierChoice object at 0x7f9a3ece2ad0>, 'sklearn_classifier': RandomForestClassifier(max_features=9, n_estimators=512, n_jobs=1,\n",
      "                       random_state=1, warm_start=True)}, 6: {'model_id': 6, 'rank': 4, 'cost': 0.2807017543859649, 'ensemble_weight': 0.020000000000000004, 'data_preprocessor': <autosklearn.pipeline.components.data_preprocessing.DataPreprocessorChoice object at 0x7f9a3ea412a0>, 'balancing': Balancing(random_state=1), 'feature_preprocessor': <autosklearn.pipeline.components.feature_preprocessing.FeaturePreprocessorChoice object at 0x7f9a3eb68850>, 'classifier': <autosklearn.pipeline.components.classification.ClassifierChoice object at 0x7f9a3eb68d00>, 'sklearn_classifier': RandomForestClassifier(criterion='entropy', max_features=36, min_samples_leaf=3,\n",
      "                       min_samples_split=12, n_estimators=512, n_jobs=1,\n",
      "                       random_state=1, warm_start=True)}, 5: {'model_id': 5, 'rank': 5, 'cost': 0.3157894736842105, 'ensemble_weight': 0.020000000000000004, 'data_preprocessor': <autosklearn.pipeline.components.data_preprocessing.DataPreprocessorChoice object at 0x7f9a3ebcff70>, 'balancing': Balancing(random_state=1, strategy='weighting'), 'feature_preprocessor': <autosklearn.pipeline.components.feature_preprocessing.FeaturePreprocessorChoice object at 0x7f9a377ae080>, 'classifier': <autosklearn.pipeline.components.classification.ClassifierChoice object at 0x7f9a377ace50>, 'sklearn_classifier': RandomForestClassifier(bootstrap=False, max_features=3, min_samples_leaf=2,\n",
      "                       min_samples_split=3, n_estimators=512, n_jobs=1,\n",
      "                       random_state=1, warm_start=True)}, 10: {'model_id': 10, 'rank': 6, 'cost': 0.33333333333333337, 'ensemble_weight': 0.060000000000000005, 'data_preprocessor': <autosklearn.pipeline.components.data_preprocessing.DataPreprocessorChoice object at 0x7f9a3eb22230>, 'balancing': Balancing(random_state=1), 'feature_preprocessor': <autosklearn.pipeline.components.feature_preprocessing.FeaturePreprocessorChoice object at 0x7f9a4de7d8d0>, 'classifier': <autosklearn.pipeline.components.classification.ClassifierChoice object at 0x7f9a4de7d3c0>, 'sklearn_classifier': RandomForestClassifier(max_features=4, min_samples_leaf=8, min_samples_split=20,\n",
      "                       n_estimators=512, n_jobs=1, random_state=1,\n",
      "                       warm_start=True)}, 19: {'model_id': 19, 'rank': 7, 'cost': 0.38596491228070173, 'ensemble_weight': 0.04000000000000001, 'data_preprocessor': <autosklearn.pipeline.components.data_preprocessing.DataPreprocessorChoice object at 0x7f9a3ebe63e0>, 'balancing': Balancing(random_state=1, strategy='weighting'), 'feature_preprocessor': <autosklearn.pipeline.components.feature_preprocessing.FeaturePreprocessorChoice object at 0x7f9a3e923370>, 'classifier': <autosklearn.pipeline.components.classification.ClassifierChoice object at 0x7f9a3e922b90>, 'sklearn_classifier': SVC(C=575.2840839820392, cache_size=1839.7578125, class_weight='balanced',\n",
      "    gamma=0.28251015893293174, max_iter=-1.0, random_state=1, shrinking=False,\n",
      "    tol=6.314728575433805e-05)}, 25: {'model_id': 25, 'rank': 8, 'cost': 0.4035087719298246, 'ensemble_weight': 0.04000000000000001, 'data_preprocessor': <autosklearn.pipeline.components.data_preprocessing.DataPreprocessorChoice object at 0x7f9a3ece44f0>, 'balancing': Balancing(random_state=1), 'feature_preprocessor': <autosklearn.pipeline.components.feature_preprocessing.FeaturePreprocessorChoice object at 0x7f9a4dbd3790>, 'classifier': <autosklearn.pipeline.components.classification.ClassifierChoice object at 0x7f9a4dbd3b50>, 'sklearn_classifier': HistGradientBoostingClassifier(early_stopping=True,\n",
      "                               l2_regularization=1.3153561911035717e-10,\n",
      "                               learning_rate=0.025345400213312417, loss='auto',\n",
      "                               max_iter=128, max_leaf_nodes=16,\n",
      "                               min_samples_leaf=27, n_iter_no_change=5,\n",
      "                               random_state=1,\n",
      "                               validation_fraction=0.2361478213622299,\n",
      "                               warm_start=True)}, 28: {'model_id': 28, 'rank': 9, 'cost': 0.42105263157894735, 'ensemble_weight': 0.020000000000000004, 'data_preprocessor': <autosklearn.pipeline.components.data_preprocessing.DataPreprocessorChoice object at 0x7f9a4ded4370>, 'balancing': Balancing(random_state=1), 'feature_preprocessor': <autosklearn.pipeline.components.feature_preprocessing.FeaturePreprocessorChoice object at 0x7f9a37264ca0>, 'classifier': <autosklearn.pipeline.components.classification.ClassifierChoice object at 0x7f9a37264d90>, 'sklearn_classifier': RandomForestClassifier(max_features=1, min_samples_leaf=7, min_samples_split=3,\n",
      "                       n_estimators=512, n_jobs=1, random_state=1,\n",
      "                       warm_start=True)}, 8: {'model_id': 8, 'rank': 10, 'cost': 0.4385964912280702, 'ensemble_weight': 0.020000000000000004, 'data_preprocessor': <autosklearn.pipeline.components.data_preprocessing.DataPreprocessorChoice object at 0x7f9a4dbd0d30>, 'balancing': Balancing(random_state=1), 'feature_preprocessor': <autosklearn.pipeline.components.feature_preprocessing.FeaturePreprocessorChoice object at 0x7f9a37266350>, 'classifier': <autosklearn.pipeline.components.classification.ClassifierChoice object at 0x7f9a372665f0>, 'sklearn_classifier': RandomForestClassifier(bootstrap=False, max_features=7, min_samples_leaf=18,\n",
      "                       min_samples_split=3, n_estimators=512, n_jobs=1,\n",
      "                       random_state=1, warm_start=True)}, 4: {'model_id': 4, 'rank': 11, 'cost': 0.4736842105263158, 'ensemble_weight': 0.020000000000000004, 'data_preprocessor': <autosklearn.pipeline.components.data_preprocessing.DataPreprocessorChoice object at 0x7f9a37264370>, 'balancing': Balancing(random_state=1, strategy='weighting'), 'feature_preprocessor': <autosklearn.pipeline.components.feature_preprocessing.FeaturePreprocessorChoice object at 0x7f9a372d95d0>, 'classifier': <autosklearn.pipeline.components.classification.ClassifierChoice object at 0x7f9a372d9990>, 'sklearn_classifier': LinearDiscriminantAnalysis(shrinkage='auto', solver='lsqr',\n",
      "                           tol=0.00010000000000000009)}, 30: {'model_id': 30, 'rank': 12, 'cost': 0.4736842105263158, 'ensemble_weight': 0.020000000000000004, 'data_preprocessor': <autosklearn.pipeline.components.data_preprocessing.DataPreprocessorChoice object at 0x7f9a372650c0>, 'balancing': Balancing(random_state=1, strategy='weighting'), 'feature_preprocessor': <autosklearn.pipeline.components.feature_preprocessing.FeaturePreprocessorChoice object at 0x7f9a3eb6a350>, 'classifier': <autosklearn.pipeline.components.classification.ClassifierChoice object at 0x7f9a3eb68f40>, 'sklearn_classifier': RandomForestClassifier(bootstrap=False, max_features=2, min_samples_leaf=13,\n",
      "                       min_samples_split=18, n_estimators=512, n_jobs=1,\n",
      "                       random_state=1, warm_start=True)}, 13: {'model_id': 13, 'rank': 13, 'cost': 0.49122807017543857, 'ensemble_weight': 0.020000000000000004, 'data_preprocessor': <autosklearn.pipeline.components.data_preprocessing.DataPreprocessorChoice object at 0x7f9a37266e90>, 'balancing': Balancing(random_state=1, strategy='weighting'), 'feature_preprocessor': <autosklearn.pipeline.components.feature_preprocessing.FeaturePreprocessorChoice object at 0x7f9a3eb5d990>, 'classifier': <autosklearn.pipeline.components.classification.ClassifierChoice object at 0x7f9a3eb5dc30>, 'sklearn_classifier': HistGradientBoostingClassifier(early_stopping=True,\n",
      "                               l2_regularization=5.027708640006448e-08,\n",
      "                               learning_rate=0.09750328007832798, loss='auto',\n",
      "                               max_iter=32, max_leaf_nodes=1234,\n",
      "                               min_samples_leaf=25, n_iter_no_change=1,\n",
      "                               random_state=1,\n",
      "                               validation_fraction=0.08300813783286698,\n",
      "                               warm_start=True)}, 26: {'model_id': 26, 'rank': 14, 'cost': 0.5087719298245614, 'ensemble_weight': 0.12000000000000001, 'data_preprocessor': <autosklearn.pipeline.components.data_preprocessing.DataPreprocessorChoice object at 0x7f9a3eb69bd0>, 'balancing': Balancing(random_state=1), 'feature_preprocessor': <autosklearn.pipeline.components.feature_preprocessing.FeaturePreprocessorChoice object at 0x7f9a36f69bd0>, 'classifier': <autosklearn.pipeline.components.classification.ClassifierChoice object at 0x7f9a36f6a530>, 'sklearn_classifier': PassiveAggressiveClassifier(C=0.0007163174331946707, max_iter=1024,\n",
      "                            random_state=1, tol=1.0000041320668022e-05,\n",
      "                            warm_start=True)}, 12: {'model_id': 12, 'rank': 15, 'cost': 0.631578947368421, 'ensemble_weight': 0.08000000000000002, 'data_preprocessor': <autosklearn.pipeline.components.data_preprocessing.DataPreprocessorChoice object at 0x7f9a3eb68ca0>, 'balancing': Balancing(random_state=1, strategy='weighting'), 'feature_preprocessor': <autosklearn.pipeline.components.feature_preprocessing.FeaturePreprocessorChoice object at 0x7f9a32e2b310>, 'classifier': <autosklearn.pipeline.components.classification.ClassifierChoice object at 0x7f9a32e2b7c0>, 'sklearn_classifier': SGDClassifier(alpha=0.0018367485569817758, average=True,\n",
      "              epsilon=0.06935467259367672, eta0=3.0158489869733344e-07,\n",
      "              learning_rate='constant', loss='modified_huber', max_iter=1024,\n",
      "              penalty='l1', random_state=1, tol=5.2594585460405347e-05,\n",
      "              warm_start=True)}, 36: {'model_id': 36, 'rank': 16, 'cost': 0.631578947368421, 'ensemble_weight': 0.10000000000000002, 'data_preprocessor': <autosklearn.pipeline.components.data_preprocessing.DataPreprocessorChoice object at 0x7f9a37082bf0>, 'balancing': Balancing(random_state=1), 'feature_preprocessor': <autosklearn.pipeline.components.feature_preprocessing.FeaturePreprocessorChoice object at 0x7f9a32ddb970>, 'classifier': <autosklearn.pipeline.components.classification.ClassifierChoice object at 0x7f9a32ddbe80>, 'sklearn_classifier': QuadraticDiscriminantAnalysis(reg_param=0.4742163030026497)}, 38: {'model_id': 38, 'rank': 17, 'cost': 0.631578947368421, 'ensemble_weight': 0.060000000000000005, 'data_preprocessor': <autosklearn.pipeline.components.data_preprocessing.DataPreprocessorChoice object at 0x7f9a32e281c0>, 'balancing': Balancing(random_state=1, strategy='weighting'), 'feature_preprocessor': <autosklearn.pipeline.components.feature_preprocessing.FeaturePreprocessorChoice object at 0x7f9a32a25d50>, 'classifier': <autosklearn.pipeline.components.classification.ClassifierChoice object at 0x7f9a32a25e40>, 'sklearn_classifier': QuadraticDiscriminantAnalysis(reg_param=0.9324926375902531)}, 29: {'model_id': 29, 'rank': 18, 'cost': 0.6491228070175439, 'ensemble_weight': 0.12000000000000001, 'data_preprocessor': <autosklearn.pipeline.components.data_preprocessing.DataPreprocessorChoice object at 0x7f9a32dd89a0>, 'balancing': Balancing(random_state=1, strategy='weighting'), 'feature_preprocessor': <autosklearn.pipeline.components.feature_preprocessing.FeaturePreprocessorChoice object at 0x7f9a32a26c20>, 'classifier': <autosklearn.pipeline.components.classification.ClassifierChoice object at 0x7f9a32a26d10>, 'sklearn_classifier': BernoulliNB(alpha=39.87397441278958, fit_prior=False)}, 37: {'model_id': 37, 'rank': 19, 'cost': 0.6666666666666667, 'ensemble_weight': 0.04000000000000001, 'data_preprocessor': <autosklearn.pipeline.components.data_preprocessing.DataPreprocessorChoice object at 0x7f9a32a24af0>, 'balancing': Balancing(random_state=1, strategy='weighting'), 'feature_preprocessor': <autosklearn.pipeline.components.feature_preprocessing.FeaturePreprocessorChoice object at 0x7f9a32a6c490>, 'classifier': <autosklearn.pipeline.components.classification.ClassifierChoice object at 0x7f9a32a6c580>, 'sklearn_classifier': LinearDiscriminantAnalysis(shrinkage=0.5951426808583357, solver='lsqr',\n",
      "                           tol=0.00019458958707353077)}}\n"
     ]
    }
   ],
   "source": [
    "print(automl.show_models())"
   ]
  },
  {
   "cell_type": "code",
   "execution_count": 19,
   "metadata": {},
   "outputs": [
    {
     "data": {
      "text/plain": [
       "{'balancing:strategy': 'none',\n",
       " 'classifier:__choice__': 'random_forest',\n",
       " 'data_preprocessor:__choice__': 'feature_type',\n",
       " 'feature_preprocessor:__choice__': 'no_preprocessing',\n",
       " 'classifier:random_forest:bootstrap': 'True',\n",
       " 'classifier:random_forest:criterion': 'gini',\n",
       " 'classifier:random_forest:max_depth': 'None',\n",
       " 'classifier:random_forest:max_features': 0.5,\n",
       " 'classifier:random_forest:max_leaf_nodes': 'None',\n",
       " 'classifier:random_forest:min_impurity_decrease': 0.0,\n",
       " 'classifier:random_forest:min_samples_leaf': 1,\n",
       " 'classifier:random_forest:min_samples_split': 2,\n",
       " 'classifier:random_forest:min_weight_fraction_leaf': 0.0,\n",
       " 'data_preprocessor:feature_type:categorical_transformer:categorical_encoding:__choice__': 'one_hot_encoding',\n",
       " 'data_preprocessor:feature_type:categorical_transformer:category_coalescence:__choice__': 'minority_coalescer',\n",
       " 'data_preprocessor:feature_type:numerical_transformer:imputation:strategy': 'mean',\n",
       " 'data_preprocessor:feature_type:numerical_transformer:rescaling:__choice__': 'standardize',\n",
       " 'data_preprocessor:feature_type:categorical_transformer:category_coalescence:minority_coalescer:minimum_fraction': 0.01}"
      ]
     },
     "execution_count": 19,
     "metadata": {},
     "output_type": "execute_result"
    }
   ],
   "source": [
    "automl.cv_results_['params'][np.argmax(automl.cv_results_['mean_test_score'])]"
   ]
  }
 ],
 "metadata": {
  "kernelspec": {
   "display_name": "Python 3.10.4 64-bit",
   "language": "python",
   "name": "python3"
  },
  "language_info": {
   "codemirror_mode": {
    "name": "ipython",
    "version": 3
   },
   "file_extension": ".py",
   "mimetype": "text/x-python",
   "name": "python",
   "nbconvert_exporter": "python",
   "pygments_lexer": "ipython3",
   "version": "3.10.4"
  },
  "orig_nbformat": 4,
  "vscode": {
   "interpreter": {
    "hash": "916dbcbb3f70747c44a77c7bcd40155683ae19c65e1c03b4aa3499c5328201f1"
   }
  }
 },
 "nbformat": 4,
 "nbformat_minor": 2
}
