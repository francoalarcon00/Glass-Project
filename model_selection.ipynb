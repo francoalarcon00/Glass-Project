{
 "cells": [
  {
   "cell_type": "code",
   "execution_count": 1,
   "metadata": {},
   "outputs": [],
   "source": [
    "# Importamos las librerias necesarias\n",
    "import autosklearn.classification as auto_c\n",
    "from sklearn.model_selection import train_test_split\n",
    "import pandas as pd\n",
    "import numpy as np\n",
    "\n",
    "import warnings\n",
    "warnings.filterwarnings('ignore')"
   ]
  },
  {
   "cell_type": "code",
   "execution_count": 2,
   "metadata": {},
   "outputs": [],
   "source": [
    "# Apertura del dataset limpio\n",
    "df = pd.read_csv('cleaned_glass.csv')"
   ]
  },
  {
   "cell_type": "code",
   "execution_count": 3,
   "metadata": {},
   "outputs": [],
   "source": [
    "# Separamos datos numéricos\n",
    "numeric = df.select_dtypes(include=np.number).columns.to_list()\n",
    "\n",
    "# Eliminamos las columnas index y Type\n",
    "numeric.remove('index')\n",
    "numeric.remove('Type')  \n",
    "\n",
    "# Declaramos X e Y\n",
    "x = df[numeric]     \n",
    "y = df['Type']\n",
    "\n",
    "# Seteamos el conjunto de datos de entrenamiento y de test\n",
    "x_train, x_test, y_train, y_test = train_test_split(x, y, test_size=0.20, random_state=5)"
   ]
  },
  {
   "cell_type": "code",
   "execution_count": 4,
   "metadata": {},
   "outputs": [
    {
     "data": {
      "text/html": [
       "<style>#sk-container-id-1 {color: black;background-color: white;}#sk-container-id-1 pre{padding: 0;}#sk-container-id-1 div.sk-toggleable {background-color: white;}#sk-container-id-1 label.sk-toggleable__label {cursor: pointer;display: block;width: 100%;margin-bottom: 0;padding: 0.3em;box-sizing: border-box;text-align: center;}#sk-container-id-1 label.sk-toggleable__label-arrow:before {content: \"▸\";float: left;margin-right: 0.25em;color: #696969;}#sk-container-id-1 label.sk-toggleable__label-arrow:hover:before {color: black;}#sk-container-id-1 div.sk-estimator:hover label.sk-toggleable__label-arrow:before {color: black;}#sk-container-id-1 div.sk-toggleable__content {max-height: 0;max-width: 0;overflow: hidden;text-align: left;background-color: #f0f8ff;}#sk-container-id-1 div.sk-toggleable__content pre {margin: 0.2em;color: black;border-radius: 0.25em;background-color: #f0f8ff;}#sk-container-id-1 input.sk-toggleable__control:checked~div.sk-toggleable__content {max-height: 200px;max-width: 100%;overflow: auto;}#sk-container-id-1 input.sk-toggleable__control:checked~label.sk-toggleable__label-arrow:before {content: \"▾\";}#sk-container-id-1 div.sk-estimator input.sk-toggleable__control:checked~label.sk-toggleable__label {background-color: #d4ebff;}#sk-container-id-1 div.sk-label input.sk-toggleable__control:checked~label.sk-toggleable__label {background-color: #d4ebff;}#sk-container-id-1 input.sk-hidden--visually {border: 0;clip: rect(1px 1px 1px 1px);clip: rect(1px, 1px, 1px, 1px);height: 1px;margin: -1px;overflow: hidden;padding: 0;position: absolute;width: 1px;}#sk-container-id-1 div.sk-estimator {font-family: monospace;background-color: #f0f8ff;border: 1px dotted black;border-radius: 0.25em;box-sizing: border-box;margin-bottom: 0.5em;}#sk-container-id-1 div.sk-estimator:hover {background-color: #d4ebff;}#sk-container-id-1 div.sk-parallel-item::after {content: \"\";width: 100%;border-bottom: 1px solid gray;flex-grow: 1;}#sk-container-id-1 div.sk-label:hover label.sk-toggleable__label {background-color: #d4ebff;}#sk-container-id-1 div.sk-serial::before {content: \"\";position: absolute;border-left: 1px solid gray;box-sizing: border-box;top: 0;bottom: 0;left: 50%;z-index: 0;}#sk-container-id-1 div.sk-serial {display: flex;flex-direction: column;align-items: center;background-color: white;padding-right: 0.2em;padding-left: 0.2em;position: relative;}#sk-container-id-1 div.sk-item {position: relative;z-index: 1;}#sk-container-id-1 div.sk-parallel {display: flex;align-items: stretch;justify-content: center;background-color: white;position: relative;}#sk-container-id-1 div.sk-item::before, #sk-container-id-1 div.sk-parallel-item::before {content: \"\";position: absolute;border-left: 1px solid gray;box-sizing: border-box;top: 0;bottom: 0;left: 50%;z-index: -1;}#sk-container-id-1 div.sk-parallel-item {display: flex;flex-direction: column;z-index: 1;position: relative;background-color: white;}#sk-container-id-1 div.sk-parallel-item:first-child::after {align-self: flex-end;width: 50%;}#sk-container-id-1 div.sk-parallel-item:last-child::after {align-self: flex-start;width: 50%;}#sk-container-id-1 div.sk-parallel-item:only-child::after {width: 0;}#sk-container-id-1 div.sk-dashed-wrapped {border: 1px dashed gray;margin: 0 0.4em 0.5em 0.4em;box-sizing: border-box;padding-bottom: 0.4em;background-color: white;}#sk-container-id-1 div.sk-label label {font-family: monospace;font-weight: bold;display: inline-block;line-height: 1.2em;}#sk-container-id-1 div.sk-label-container {text-align: center;}#sk-container-id-1 div.sk-container {/* jupyter's `normalize.less` sets `[hidden] { display: none; }` but bootstrap.min.css set `[hidden] { display: none !important; }` so we also need the `!important` here to be able to override the default hidden behavior on the sphinx rendered scikit-learn.org. See: https://github.com/scikit-learn/scikit-learn/issues/21755 */display: inline-block !important;position: relative;}#sk-container-id-1 div.sk-text-repr-fallback {display: none;}</style><div id=\"sk-container-id-1\" class=\"sk-top-container\"><div class=\"sk-text-repr-fallback\"><pre>AutoSklearnClassifier(per_run_time_limit=30, time_left_for_this_task=180)</pre><b>In a Jupyter environment, please rerun this cell to show the HTML representation or trust the notebook. <br />On GitHub, the HTML representation is unable to render, please try loading this page with nbviewer.org.</b></div><div class=\"sk-container\" hidden><div class=\"sk-item\"><div class=\"sk-estimator sk-toggleable\"><input class=\"sk-toggleable__control sk-hidden--visually\" id=\"sk-estimator-id-1\" type=\"checkbox\" checked><label for=\"sk-estimator-id-1\" class=\"sk-toggleable__label sk-toggleable__label-arrow\">AutoSklearnClassifier</label><div class=\"sk-toggleable__content\"><pre>AutoSklearnClassifier(per_run_time_limit=30, time_left_for_this_task=180)</pre></div></div></div></div></div>"
      ],
      "text/plain": [
       "AutoSklearnClassifier(per_run_time_limit=30, time_left_for_this_task=180)"
      ]
     },
     "execution_count": 4,
     "metadata": {},
     "output_type": "execute_result"
    }
   ],
   "source": [
    "# Preparamos el automl con una duración de 180s, con cada proceso en 30s\n",
    "\n",
    "automl = auto_c.AutoSklearnClassifier(\n",
    "    time_left_for_this_task=180,\n",
    "    per_run_time_limit=30,\n",
    ")\n",
    "automl.fit(x_train, y_train, dataset_name='cleaned_glass.csv')"
   ]
  },
  {
   "cell_type": "code",
   "execution_count": 5,
   "metadata": {},
   "outputs": [
    {
     "name": "stdout",
     "output_type": "stream",
     "text": [
      "auto-sklearn results:\n",
      "  Dataset name: cleaned_glass.csv\n",
      "  Metric: accuracy\n",
      "  Best validation score: 0.771930\n",
      "  Number of target algorithm runs: 71\n",
      "  Number of successful target algorithm runs: 71\n",
      "  Number of crashed target algorithm runs: 0\n",
      "  Number of target algorithms that exceeded the time limit: 0\n",
      "  Number of target algorithms that exceeded the memory limit: 0\n",
      "\n"
     ]
    }
   ],
   "source": [
    "# Mostramos un resumen general del resultado obtenido\n",
    "print(automl.sprint_statistics())"
   ]
  },
  {
   "cell_type": "code",
   "execution_count": 6,
   "metadata": {},
   "outputs": [
    {
     "name": "stdout",
     "output_type": "stream",
     "text": [
      "          rank  ensemble_weight                 type      cost  duration\n",
      "model_id                                                                \n",
      "2            1             0.02        random_forest  0.228070  0.945248\n",
      "69           2             0.06        random_forest  0.228070  0.988910\n",
      "64           3             0.06        random_forest  0.228070  1.034680\n",
      "61           4             0.06        random_forest  0.228070  0.942489\n",
      "56           5             0.02        random_forest  0.228070  0.929231\n",
      "54           6             0.02        random_forest  0.228070  0.932374\n",
      "48           7             0.06        random_forest  0.228070  0.953563\n",
      "70           8             0.02        random_forest  0.245614  1.140522\n",
      "41           9             0.04        random_forest  0.245614  1.055736\n",
      "9           10             0.02        random_forest  0.245614  0.929964\n",
      "40          11             0.02        random_forest  0.263158  1.038192\n",
      "33          12             0.02        random_forest  0.280702  1.074090\n",
      "6           13             0.02        random_forest  0.280702  1.357216\n",
      "72          14             0.06        random_forest  0.298246  0.863834\n",
      "62          15             0.02        random_forest  0.298246  0.992367\n",
      "49          16             0.02        random_forest  0.298246  0.987296\n",
      "58          17             0.04        random_forest  0.298246  1.086776\n",
      "16          18             0.02        random_forest  0.315789  0.943851\n",
      "68          19             0.02        random_forest  0.333333  0.963271\n",
      "10          20             0.04        random_forest  0.333333  0.930698\n",
      "15          21             0.08        liblinear_svc  0.403509  0.591120\n",
      "8           22             0.02        random_forest  0.438596  0.921443\n",
      "47          23             0.02   passive_aggressive  0.438596  0.538829\n",
      "53          24             0.02         bernoulli_nb  0.456140  0.604384\n",
      "21          25             0.04        random_forest  0.456140  0.952688\n",
      "4           26             0.08                  lda  0.473684  0.507342\n",
      "34          27             0.04  k_nearest_neighbors  0.491228  0.537850\n",
      "26          28             0.04   passive_aggressive  0.508772  0.462647\n"
     ]
    }
   ],
   "source": [
    "# Mostramos la tabla de modelos ejecutados\n",
    "print(automl.leaderboard())"
   ]
  },
  {
   "cell_type": "code",
   "execution_count": 7,
   "metadata": {},
   "outputs": [
    {
     "name": "stdout",
     "output_type": "stream",
     "text": [
      "{2: {'model_id': 2, 'rank': 1, 'cost': 0.22807017543859653, 'ensemble_weight': 0.02, 'data_preprocessor': <autosklearn.pipeline.components.data_preprocessing.DataPreprocessorChoice object at 0x7f96bbd94040>, 'balancing': Balancing(random_state=1), 'feature_preprocessor': <autosklearn.pipeline.components.feature_preprocessing.FeaturePreprocessorChoice object at 0x7f967882e860>, 'classifier': <autosklearn.pipeline.components.classification.ClassifierChoice object at 0x7f96bbd94b50>, 'sklearn_classifier': RandomForestClassifier(max_features=3, n_estimators=512, n_jobs=1,\n",
      "                       random_state=1, warm_start=True)}, 48: {'model_id': 48, 'rank': 2, 'cost': 0.22807017543859653, 'ensemble_weight': 0.06, 'data_preprocessor': <autosklearn.pipeline.components.data_preprocessing.DataPreprocessorChoice object at 0x7f967882fd00>, 'balancing': Balancing(random_state=1), 'feature_preprocessor': <autosklearn.pipeline.components.feature_preprocessing.FeaturePreprocessorChoice object at 0x7f96bbfe0ca0>, 'classifier': <autosklearn.pipeline.components.classification.ClassifierChoice object at 0x7f96bbfe35b0>, 'sklearn_classifier': RandomForestClassifier(criterion='entropy', max_features=2, n_estimators=512,\n",
      "                       n_jobs=1, random_state=1, warm_start=True)}, 54: {'model_id': 54, 'rank': 3, 'cost': 0.22807017543859653, 'ensemble_weight': 0.02, 'data_preprocessor': <autosklearn.pipeline.components.data_preprocessing.DataPreprocessorChoice object at 0x7f96bbd97fa0>, 'balancing': Balancing(random_state=1), 'feature_preprocessor': <autosklearn.pipeline.components.feature_preprocessing.FeaturePreprocessorChoice object at 0x7f96bbeb4dc0>, 'classifier': <autosklearn.pipeline.components.classification.ClassifierChoice object at 0x7f96bbeb6da0>, 'sklearn_classifier': RandomForestClassifier(criterion='entropy', max_features=2, min_samples_split=4,\n",
      "                       n_estimators=512, n_jobs=1, random_state=1,\n",
      "                       warm_start=True)}, 56: {'model_id': 56, 'rank': 4, 'cost': 0.22807017543859653, 'ensemble_weight': 0.02, 'data_preprocessor': <autosklearn.pipeline.components.data_preprocessing.DataPreprocessorChoice object at 0x7f96bbd95cc0>, 'balancing': Balancing(random_state=1), 'feature_preprocessor': <autosklearn.pipeline.components.feature_preprocessing.FeaturePreprocessorChoice object at 0x7f96bbd072b0>, 'classifier': <autosklearn.pipeline.components.classification.ClassifierChoice object at 0x7f96bbd05840>, 'sklearn_classifier': RandomForestClassifier(criterion='entropy', max_features=1, min_samples_split=3,\n",
      "                       n_estimators=512, n_jobs=1, random_state=1,\n",
      "                       warm_start=True)}, 61: {'model_id': 61, 'rank': 5, 'cost': 0.22807017543859653, 'ensemble_weight': 0.06, 'data_preprocessor': <autosklearn.pipeline.components.data_preprocessing.DataPreprocessorChoice object at 0x7f96bbfe28f0>, 'balancing': Balancing(random_state=1), 'feature_preprocessor': <autosklearn.pipeline.components.feature_preprocessing.FeaturePreprocessorChoice object at 0x7f96bbe12e00>, 'classifier': <autosklearn.pipeline.components.classification.ClassifierChoice object at 0x7f96bbe110f0>, 'sklearn_classifier': RandomForestClassifier(criterion='entropy', max_features=1, min_samples_split=3,\n",
      "                       n_estimators=512, n_jobs=1, random_state=1,\n",
      "                       warm_start=True)}, 64: {'model_id': 64, 'rank': 6, 'cost': 0.22807017543859653, 'ensemble_weight': 0.06, 'data_preprocessor': <autosklearn.pipeline.components.data_preprocessing.DataPreprocessorChoice object at 0x7f96bbd53bb0>, 'balancing': Balancing(random_state=1), 'feature_preprocessor': <autosklearn.pipeline.components.feature_preprocessing.FeaturePreprocessorChoice object at 0x7f96bbe5f910>, 'classifier': <autosklearn.pipeline.components.classification.ClassifierChoice object at 0x7f96bbe5f6a0>, 'sklearn_classifier': RandomForestClassifier(criterion='entropy', max_features=2, min_samples_split=3,\n",
      "                       n_estimators=512, n_jobs=1, random_state=1,\n",
      "                       warm_start=True)}, 69: {'model_id': 69, 'rank': 7, 'cost': 0.22807017543859653, 'ensemble_weight': 0.06, 'data_preprocessor': <autosklearn.pipeline.components.data_preprocessing.DataPreprocessorChoice object at 0x7f96786aa860>, 'balancing': Balancing(random_state=1), 'feature_preprocessor': <autosklearn.pipeline.components.feature_preprocessing.FeaturePreprocessorChoice object at 0x7f96bbd2c910>, 'classifier': <autosklearn.pipeline.components.classification.ClassifierChoice object at 0x7f96bbd2d0c0>, 'sklearn_classifier': RandomForestClassifier(criterion='entropy', max_features=3, min_samples_split=4,\n",
      "                       n_estimators=512, n_jobs=1, random_state=1,\n",
      "                       warm_start=True)}, 9: {'model_id': 9, 'rank': 8, 'cost': 0.24561403508771928, 'ensemble_weight': 0.02, 'data_preprocessor': <autosklearn.pipeline.components.data_preprocessing.DataPreprocessorChoice object at 0x7f96bbddf130>, 'balancing': Balancing(random_state=1), 'feature_preprocessor': <autosklearn.pipeline.components.feature_preprocessing.FeaturePreprocessorChoice object at 0x7f96bbe006d0>, 'classifier': <autosklearn.pipeline.components.classification.ClassifierChoice object at 0x7f96bbe02560>, 'sklearn_classifier': RandomForestClassifier(max_features=1, min_samples_split=3, n_estimators=512,\n",
      "                       n_jobs=1, random_state=1, warm_start=True)}, 41: {'model_id': 41, 'rank': 9, 'cost': 0.24561403508771928, 'ensemble_weight': 0.04, 'data_preprocessor': <autosklearn.pipeline.components.data_preprocessing.DataPreprocessorChoice object at 0x7f96bb725f00>, 'balancing': Balancing(random_state=1, strategy='weighting'), 'feature_preprocessor': <autosklearn.pipeline.components.feature_preprocessing.FeaturePreprocessorChoice object at 0x7f96bb1f0760>, 'classifier': <autosklearn.pipeline.components.classification.ClassifierChoice object at 0x7f96bb1f08e0>, 'sklearn_classifier': RandomForestClassifier(criterion='entropy', max_features=2, n_estimators=512,\n",
      "                       n_jobs=1, random_state=1, warm_start=True)}, 70: {'model_id': 70, 'rank': 10, 'cost': 0.24561403508771928, 'ensemble_weight': 0.02, 'data_preprocessor': <autosklearn.pipeline.components.data_preprocessing.DataPreprocessorChoice object at 0x7f96bbd2e860>, 'balancing': Balancing(random_state=1, strategy='weighting'), 'feature_preprocessor': <autosklearn.pipeline.components.feature_preprocessing.FeaturePreprocessorChoice object at 0x7f96bb1f38b0>, 'classifier': <autosklearn.pipeline.components.classification.ClassifierChoice object at 0x7f96bb1f3bb0>, 'sklearn_classifier': RandomForestClassifier(max_features=2, min_samples_split=4, n_estimators=512,\n",
      "                       n_jobs=1, random_state=1, warm_start=True)}, 40: {'model_id': 40, 'rank': 11, 'cost': 0.26315789473684215, 'ensemble_weight': 0.02, 'data_preprocessor': <autosklearn.pipeline.components.data_preprocessing.DataPreprocessorChoice object at 0x7f96bb332290>, 'balancing': Balancing(random_state=1, strategy='weighting'), 'feature_preprocessor': <autosklearn.pipeline.components.feature_preprocessing.FeaturePreprocessorChoice object at 0x7f96b8c84940>, 'classifier': <autosklearn.pipeline.components.classification.ClassifierChoice object at 0x7f96b8c85840>, 'sklearn_classifier': RandomForestClassifier(criterion='entropy', max_features=1, min_samples_leaf=3,\n",
      "                       n_estimators=512, n_jobs=1, random_state=1,\n",
      "                       warm_start=True)}, 6: {'model_id': 6, 'rank': 12, 'cost': 0.2807017543859649, 'ensemble_weight': 0.02, 'data_preprocessor': <autosklearn.pipeline.components.data_preprocessing.DataPreprocessorChoice object at 0x7f96bb1f10c0>, 'balancing': Balancing(random_state=1), 'feature_preprocessor': <autosklearn.pipeline.components.feature_preprocessing.FeaturePreprocessorChoice object at 0x7f96b8be36a0>, 'classifier': <autosklearn.pipeline.components.classification.ClassifierChoice object at 0x7f96b8be3a60>, 'sklearn_classifier': RandomForestClassifier(criterion='entropy', max_features=36, min_samples_leaf=3,\n",
      "                       min_samples_split=12, n_estimators=512, n_jobs=1,\n",
      "                       random_state=1, warm_start=True)}, 33: {'model_id': 33, 'rank': 13, 'cost': 0.2807017543859649, 'ensemble_weight': 0.02, 'data_preprocessor': <autosklearn.pipeline.components.data_preprocessing.DataPreprocessorChoice object at 0x7f96bb134a30>, 'balancing': Balancing(random_state=1), 'feature_preprocessor': <autosklearn.pipeline.components.feature_preprocessing.FeaturePreprocessorChoice object at 0x7f96b8d106a0>, 'classifier': <autosklearn.pipeline.components.classification.ClassifierChoice object at 0x7f96b8d11cf0>, 'sklearn_classifier': RandomForestClassifier(max_features=3, min_samples_leaf=2, n_estimators=512,\n",
      "                       n_jobs=1, random_state=1, warm_start=True)}, 49: {'model_id': 49, 'rank': 14, 'cost': 0.29824561403508776, 'ensemble_weight': 0.02, 'data_preprocessor': <autosklearn.pipeline.components.data_preprocessing.DataPreprocessorChoice object at 0x7f96b8be0fd0>, 'balancing': Balancing(random_state=1, strategy='weighting'), 'feature_preprocessor': <autosklearn.pipeline.components.feature_preprocessing.FeaturePreprocessorChoice object at 0x7f96b88a2aa0>, 'classifier': <autosklearn.pipeline.components.classification.ClassifierChoice object at 0x7f96b88a30a0>, 'sklearn_classifier': RandomForestClassifier(criterion='entropy', max_features=1,\n",
      "                       min_samples_split=11, n_estimators=512, n_jobs=1,\n",
      "                       random_state=1, warm_start=True)}, 58: {'model_id': 58, 'rank': 15, 'cost': 0.29824561403508776, 'ensemble_weight': 0.04, 'data_preprocessor': <autosklearn.pipeline.components.data_preprocessing.DataPreprocessorChoice object at 0x7f96b8b38b20>, 'balancing': Balancing(random_state=1, strategy='weighting'), 'feature_preprocessor': <autosklearn.pipeline.components.feature_preprocessing.FeaturePreprocessorChoice object at 0x7f96b6632f80>, 'classifier': <autosklearn.pipeline.components.classification.ClassifierChoice object at 0x7f96b6633a00>, 'sklearn_classifier': RandomForestClassifier(criterion='entropy', max_features=2, min_samples_leaf=2,\n",
      "                       min_samples_split=14, n_estimators=512, n_jobs=1,\n",
      "                       random_state=1, warm_start=True)}, 62: {'model_id': 62, 'rank': 16, 'cost': 0.29824561403508776, 'ensemble_weight': 0.02, 'data_preprocessor': <autosklearn.pipeline.components.data_preprocessing.DataPreprocessorChoice object at 0x7f96b8cc2560>, 'balancing': Balancing(random_state=1, strategy='weighting'), 'feature_preprocessor': <autosklearn.pipeline.components.feature_preprocessing.FeaturePreprocessorChoice object at 0x7f96b6462350>, 'classifier': <autosklearn.pipeline.components.classification.ClassifierChoice object at 0x7f96b6462950>, 'sklearn_classifier': RandomForestClassifier(criterion='entropy', max_features=1, min_samples_split=3,\n",
      "                       n_estimators=512, n_jobs=1, random_state=1,\n",
      "                       warm_start=True)}, 72: {'model_id': 72, 'rank': 17, 'cost': 0.29824561403508776, 'ensemble_weight': 0.06, 'data_preprocessor': <autosklearn.pipeline.components.data_preprocessing.DataPreprocessorChoice object at 0x7f96b671e0e0>, 'balancing': Balancing(random_state=1), 'feature_preprocessor': <autosklearn.pipeline.components.feature_preprocessing.FeaturePreprocessorChoice object at 0x7f96b626d0f0>, 'classifier': <autosklearn.pipeline.components.classification.ClassifierChoice object at 0x7f96b626d6f0>, 'sklearn_classifier': RandomForestClassifier(bootstrap=False, criterion='entropy', max_features=2,\n",
      "                       min_samples_split=17, n_estimators=512, n_jobs=1,\n",
      "                       random_state=1, warm_start=True)}, 16: {'model_id': 16, 'rank': 18, 'cost': 0.3157894736842105, 'ensemble_weight': 0.02, 'data_preprocessor': <autosklearn.pipeline.components.data_preprocessing.DataPreprocessorChoice object at 0x7f96b66f92d0>, 'balancing': Balancing(random_state=1), 'feature_preprocessor': <autosklearn.pipeline.components.feature_preprocessing.FeaturePreprocessorChoice object at 0x7f96b608c430>, 'classifier': <autosklearn.pipeline.components.classification.ClassifierChoice object at 0x7f96b608ca30>, 'sklearn_classifier': RandomForestClassifier(bootstrap=False, max_features=9, min_samples_leaf=2,\n",
      "                       min_samples_split=5, n_estimators=512, n_jobs=1,\n",
      "                       random_state=1, warm_start=True)}, 10: {'model_id': 10, 'rank': 19, 'cost': 0.33333333333333337, 'ensemble_weight': 0.04, 'data_preprocessor': <autosklearn.pipeline.components.data_preprocessing.DataPreprocessorChoice object at 0x7f96b6330850>, 'balancing': Balancing(random_state=1), 'feature_preprocessor': <autosklearn.pipeline.components.feature_preprocessing.FeaturePreprocessorChoice object at 0x7f96ae7cf100>, 'classifier': <autosklearn.pipeline.components.classification.ClassifierChoice object at 0x7f96ae7cf880>, 'sklearn_classifier': RandomForestClassifier(max_features=4, min_samples_leaf=8, min_samples_split=20,\n",
      "                       n_estimators=512, n_jobs=1, random_state=1,\n",
      "                       warm_start=True)}, 68: {'model_id': 68, 'rank': 20, 'cost': 0.33333333333333337, 'ensemble_weight': 0.02, 'data_preprocessor': <autosklearn.pipeline.components.data_preprocessing.DataPreprocessorChoice object at 0x7f96b626f1f0>, 'balancing': Balancing(random_state=1), 'feature_preprocessor': <autosklearn.pipeline.components.feature_preprocessing.FeaturePreprocessorChoice object at 0x7f96ae5c61a0>, 'classifier': <autosklearn.pipeline.components.classification.ClassifierChoice object at 0x7f96ae5c6aa0>, 'sklearn_classifier': RandomForestClassifier(criterion='entropy', max_features=2, n_estimators=512,\n",
      "                       n_jobs=1, random_state=1, warm_start=True)}, 15: {'model_id': 15, 'rank': 21, 'cost': 0.4035087719298246, 'ensemble_weight': 0.08, 'data_preprocessor': <autosklearn.pipeline.components.data_preprocessing.DataPreprocessorChoice object at 0x7f96b608e200>, 'balancing': Balancing(random_state=1, strategy='weighting'), 'feature_preprocessor': <autosklearn.pipeline.components.feature_preprocessing.FeaturePreprocessorChoice object at 0x7f96ae3dcf10>, 'classifier': <autosklearn.pipeline.components.classification.ClassifierChoice object at 0x7f96ae3dd690>, 'sklearn_classifier': LinearSVC(C=999.897948630207, class_weight='balanced', dual=False,\n",
      "          intercept_scaling=1.0, random_state=1, tol=7.067903490334549e-05)}, 8: {'model_id': 8, 'rank': 22, 'cost': 0.4385964912280702, 'ensemble_weight': 0.02, 'data_preprocessor': <autosklearn.pipeline.components.data_preprocessing.DataPreprocessorChoice object at 0x7f96ae685840>, 'balancing': Balancing(random_state=1), 'feature_preprocessor': <autosklearn.pipeline.components.feature_preprocessing.FeaturePreprocessorChoice object at 0x7f96ae154f10>, 'classifier': <autosklearn.pipeline.components.classification.ClassifierChoice object at 0x7f96ae1552d0>, 'sklearn_classifier': RandomForestClassifier(bootstrap=False, max_features=7, min_samples_leaf=18,\n",
      "                       min_samples_split=3, n_estimators=512, n_jobs=1,\n",
      "                       random_state=1, warm_start=True)}, 47: {'model_id': 47, 'rank': 23, 'cost': 0.4385964912280702, 'ensemble_weight': 0.02, 'data_preprocessor': <autosklearn.pipeline.components.data_preprocessing.DataPreprocessorChoice object at 0x7f96ae494670>, 'balancing': Balancing(random_state=1), 'feature_preprocessor': <autosklearn.pipeline.components.feature_preprocessing.FeaturePreprocessorChoice object at 0x7f96ae002740>, 'classifier': <autosklearn.pipeline.components.classification.ClassifierChoice object at 0x7f96ae002a40>, 'sklearn_classifier': PassiveAggressiveClassifier(C=2.577048027680138, average=True, max_iter=32,\n",
      "                            random_state=1, tol=0.012306539150537494,\n",
      "                            warm_start=True)}, 21: {'model_id': 21, 'rank': 24, 'cost': 0.45614035087719296, 'ensemble_weight': 0.04, 'data_preprocessor': <autosklearn.pipeline.components.data_preprocessing.DataPreprocessorChoice object at 0x7f96ae3deb00>, 'balancing': Balancing(random_state=1), 'feature_preprocessor': <autosklearn.pipeline.components.feature_preprocessing.FeaturePreprocessorChoice object at 0x7f96adf69ab0>, 'classifier': <autosklearn.pipeline.components.classification.ClassifierChoice object at 0x7f96adf69f30>, 'sklearn_classifier': RandomForestClassifier(max_features=5, min_samples_leaf=15, min_samples_split=3,\n",
      "                       n_estimators=512, n_jobs=1, random_state=1,\n",
      "                       warm_start=True)}, 53: {'model_id': 53, 'rank': 25, 'cost': 0.45614035087719296, 'ensemble_weight': 0.02, 'data_preprocessor': <autosklearn.pipeline.components.data_preprocessing.DataPreprocessorChoice object at 0x7f96ae156410>, 'balancing': Balancing(random_state=1), 'feature_preprocessor': <autosklearn.pipeline.components.feature_preprocessing.FeaturePreprocessorChoice object at 0x7f96ade26890>, 'classifier': <autosklearn.pipeline.components.classification.ClassifierChoice object at 0x7f96adc18370>, 'sklearn_classifier': BernoulliNB(alpha=6.920244217471375)}, 4: {'model_id': 4, 'rank': 26, 'cost': 0.4736842105263158, 'ensemble_weight': 0.08, 'data_preprocessor': <autosklearn.pipeline.components.data_preprocessing.DataPreprocessorChoice object at 0x7f96ae003730>, 'balancing': Balancing(random_state=1, strategy='weighting'), 'feature_preprocessor': <autosklearn.pipeline.components.feature_preprocessing.FeaturePreprocessorChoice object at 0x7f96adc1acb0>, 'classifier': <autosklearn.pipeline.components.classification.ClassifierChoice object at 0x7f96adc1ae90>, 'sklearn_classifier': LinearDiscriminantAnalysis(shrinkage='auto', solver='lsqr',\n",
      "                           tol=0.00010000000000000009)}, 34: {'model_id': 34, 'rank': 27, 'cost': 0.49122807017543857, 'ensemble_weight': 0.04, 'data_preprocessor': <autosklearn.pipeline.components.data_preprocessing.DataPreprocessorChoice object at 0x7f96adf6b340>, 'balancing': Balancing(random_state=1), 'feature_preprocessor': <autosklearn.pipeline.components.feature_preprocessing.FeaturePreprocessorChoice object at 0x7f96adade110>, 'classifier': <autosklearn.pipeline.components.classification.ClassifierChoice object at 0x7f96adade290>, 'sklearn_classifier': KNeighborsClassifier(n_neighbors=10)}, 26: {'model_id': 26, 'rank': 28, 'cost': 0.5087719298245614, 'ensemble_weight': 0.04, 'data_preprocessor': <autosklearn.pipeline.components.data_preprocessing.DataPreprocessorChoice object at 0x7f96adc192a0>, 'balancing': Balancing(random_state=1), 'feature_preprocessor': <autosklearn.pipeline.components.feature_preprocessing.FeaturePreprocessorChoice object at 0x7f96adadfbb0>, 'classifier': <autosklearn.pipeline.components.classification.ClassifierChoice object at 0x7f96adadfd90>, 'sklearn_classifier': PassiveAggressiveClassifier(C=0.0007163174331946707, max_iter=1024,\n",
      "                            random_state=1, tol=1.0000041320668022e-05,\n",
      "                            warm_start=True)}}\n"
     ]
    }
   ],
   "source": [
    "# Mostramos los modelos con sus respectivos hiperparámetros\n",
    "\n",
    "print(automl.show_models())"
   ]
  },
  {
   "cell_type": "code",
   "execution_count": 8,
   "metadata": {},
   "outputs": [
    {
     "data": {
      "text/plain": [
       "{'balancing:strategy': 'none',\n",
       " 'classifier:__choice__': 'random_forest',\n",
       " 'data_preprocessor:__choice__': 'feature_type',\n",
       " 'feature_preprocessor:__choice__': 'no_preprocessing',\n",
       " 'classifier:random_forest:bootstrap': 'True',\n",
       " 'classifier:random_forest:criterion': 'gini',\n",
       " 'classifier:random_forest:max_depth': 'None',\n",
       " 'classifier:random_forest:max_features': 0.5,\n",
       " 'classifier:random_forest:max_leaf_nodes': 'None',\n",
       " 'classifier:random_forest:min_impurity_decrease': 0.0,\n",
       " 'classifier:random_forest:min_samples_leaf': 1,\n",
       " 'classifier:random_forest:min_samples_split': 2,\n",
       " 'classifier:random_forest:min_weight_fraction_leaf': 0.0,\n",
       " 'data_preprocessor:feature_type:categorical_transformer:categorical_encoding:__choice__': 'one_hot_encoding',\n",
       " 'data_preprocessor:feature_type:categorical_transformer:category_coalescence:__choice__': 'minority_coalescer',\n",
       " 'data_preprocessor:feature_type:numerical_transformer:imputation:strategy': 'mean',\n",
       " 'data_preprocessor:feature_type:numerical_transformer:rescaling:__choice__': 'standardize',\n",
       " 'data_preprocessor:feature_type:categorical_transformer:category_coalescence:minority_coalescer:minimum_fraction': 0.01}"
      ]
     },
     "execution_count": 8,
     "metadata": {},
     "output_type": "execute_result"
    }
   ],
   "source": [
    "# Mostramos en detalle los hiperparametros del mejor modelo que se ajusta a los datos\n",
    "automl.cv_results_['params'][np.argmax(automl.cv_results_['mean_test_score'])]"
   ]
  }
 ],
 "metadata": {
  "kernelspec": {
   "display_name": "Python 3.10.4 64-bit",
   "language": "python",
   "name": "python3"
  },
  "language_info": {
   "codemirror_mode": {
    "name": "ipython",
    "version": 3
   },
   "file_extension": ".py",
   "mimetype": "text/x-python",
   "name": "python",
   "nbconvert_exporter": "python",
   "pygments_lexer": "ipython3",
   "version": "3.10.4"
  },
  "orig_nbformat": 4,
  "vscode": {
   "interpreter": {
    "hash": "916dbcbb3f70747c44a77c7bcd40155683ae19c65e1c03b4aa3499c5328201f1"
   }
  }
 },
 "nbformat": 4,
 "nbformat_minor": 2
}
