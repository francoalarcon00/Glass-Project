{
 "cells": [
  {
   "cell_type": "code",
   "execution_count": 1,
   "metadata": {},
   "outputs": [],
   "source": [
    "# Importamos librerias necesarias\n",
    "import pandas as pd\n",
    "import numpy as np\n",
    "import seaborn as sns\n",
    "import matplotlib.pyplot as plt\n",
    "from sklearn.pipeline import Pipeline\n",
    "from sklearn.impute import SimpleImputer\n",
    "from sklearn.preprocessing import StandardScaler, OrdinalEncoder, OneHotEncoder\n",
    "from sklearn.compose import ColumnTransformer\n",
    "from sklearn.model_selection import train_test_split\n",
    "from sklearn.metrics import classification_report, accuracy_score\n",
    "from sklearn.metrics import confusion_matrix\n",
    "\n",
    "import warnings\n",
    "warnings.filterwarnings('ignore')"
   ]
  },
  {
   "cell_type": "code",
   "execution_count": 2,
   "metadata": {},
   "outputs": [],
   "source": [
    "# Carga de datos\n",
    "df = pd.read_csv('cleaned_glass.csv')"
   ]
  },
  {
   "cell_type": "markdown",
   "metadata": {},
   "source": [
    "<br>\n",
    "<h3 align='center'>Preparación de los datos 👈</h3>"
   ]
  },
  {
   "cell_type": "code",
   "execution_count": 3,
   "metadata": {},
   "outputs": [],
   "source": [
    "# Separamos los datos numéricos\n",
    "numeric = df.select_dtypes(include=np.number).columns.to_list()\n",
    "\n",
    "# Eliminamos las columnas index y Type\n",
    "numeric.remove('index')\n",
    "numeric.remove('Type')\n",
    "\n",
    "# Declaramos X e Y\n",
    "x = df[numeric]\n",
    "y = df['Type']\n",
    "\n",
    "# Seteamos el conjunto de datos de entrenamiento y de test\n",
    "x_train, x_test, y_train, y_test = train_test_split(x, y, test_size=0.20, random_state=1)"
   ]
  },
  {
   "cell_type": "markdown",
   "metadata": {},
   "source": [
    "<br>\n",
    "<h3 align='center'>Pipelines 👈</h3>"
   ]
  },
  {
   "cell_type": "code",
   "execution_count": 4,
   "metadata": {},
   "outputs": [],
   "source": [
    "# Pipeline variables numéricas\n",
    "numeric_pipeline = Pipeline([\n",
    "    ('imputer', SimpleImputer(strategy='mean')),\n",
    "    ('encoder', StandardScaler())\n",
    "])\n",
    "\n",
    "# Pipeline de paso-preproceso\n",
    "preprocessing_pipeline = ColumnTransformer([\n",
    "    #('nominal_preprocessor', nominal_pipeline, nominal),\n",
    "    #('ordinal_preprocessor', ordinal_pipeline, ordinal),\n",
    "    ('numeric_preprocessor', numeric_pipeline, numeric)\n",
    "])\n"
   ]
  },
  {
   "cell_type": "markdown",
   "metadata": {},
   "source": [
    "<br>\n",
    "<h3 align='center'>Modelo: Random Forest 👈</h3>"
   ]
  },
  {
   "cell_type": "code",
   "execution_count": 5,
   "metadata": {},
   "outputs": [],
   "source": [
    "# Creamos el modelo\n",
    "from sklearn.ensemble import RandomForestClassifier\n",
    "\n",
    "# Instanciamos el modelo con los hiperparámetros obtenidos en el model_selection\n",
    "rf = RandomForestClassifier(criterion='gini', bootstrap=True, max_depth=None, min_impurity_decrease=0,\n",
    "                            min_samples_leaf=1, max_leaf_nodes=None, min_samples_split=2, min_weight_fraction_leaf=0,\n",
    "                            max_features=0.5, n_estimators=512, n_jobs=1,\n",
    "                            random_state=1, warm_start=True)\n",
    "\n",
    "# Implementación del pipeline completo\n",
    "complete_pipeline_rf = Pipeline([\n",
    "    ('preprocessor', preprocessing_pipeline),\n",
    "    ('estimator', rf)\n",
    "])"
   ]
  },
  {
   "cell_type": "markdown",
   "metadata": {},
   "source": [
    "<br>\n",
    "<h3 align='center'>Resultados 👈</h3>"
   ]
  },
  {
   "cell_type": "code",
   "execution_count": 6,
   "metadata": {},
   "outputs": [
    {
     "name": "stdout",
     "output_type": "stream",
     "text": [
      "              precision    recall  f1-score   support\n",
      "\n",
      "           1       0.80      0.84      0.82        19\n",
      "           2       0.69      0.75      0.72        12\n",
      "           3       0.50      0.17      0.25         6\n",
      "           5       1.00      1.00      1.00         1\n",
      "           6       0.50      1.00      0.67         1\n",
      "           7       0.80      1.00      0.89         4\n",
      "\n",
      "    accuracy                           0.74        43\n",
      "   macro avg       0.72      0.79      0.72        43\n",
      "weighted avg       0.73      0.74      0.72        43\n",
      "\n"
     ]
    }
   ],
   "source": [
    "# Entrenamiento y testeo\n",
    "complete_pipeline_rf.fit(x_train, y_train)\n",
    "y_pred_rf = complete_pipeline_rf.predict(x_test)\n",
    "print(classification_report(y_test, y_pred_rf))"
   ]
  },
  {
   "cell_type": "code",
   "execution_count": 7,
   "metadata": {},
   "outputs": [
    {
     "data": {
      "image/png": "[encoded data removed]",
      "text/plain": [
       "<Figure size 864x576 with 2 Axes>"
      ]
     },
     "metadata": {
      "needs_background": "light"
     },
     "output_type": "display_data"
    }
   ],
   "source": [
    "# Creamos la matriz de confusión\n",
    "cm = confusion_matrix(y_test, y_pred_rf)\n",
    "cm_df = pd.DataFrame(cm,\n",
    "                    index=['Type 1','Type 2','Type 3','Type 5','Type 6','Type 7'],\n",
    "                    columns=['Type 1','Type 2','Type 3','Type 5','Type 6','Type 7'])\n",
    "\n",
    "plt.figure(figsize=(12,8))\n",
    "sns.heatmap(cm_df, annot=True, linewidths=.5)\n",
    "plt.ylabel('True label')\n",
    "plt.xlabel('Predicted label')\n",
    "plt.show()"
   ]
  },
  {
   "cell_type": "markdown",
   "metadata": {},
   "source": [
    "<h4 align=\"center\">Observaciones 🕵️​ </h4>\n",
    "<p>\n",
    "    <li>Obtuvimos un accuracy cerca del 74%. Es lo que esperabamos cuando realizamos la selección del modelo con Auto-ML.</li>\n",
    "    <br>\n",
    "    <li>Este porcentaje se puede visualizar en la matriz de confusión, donde observamos si el tipo predicho corresponde al verdadero tipo que debe ser en realidad.</li>\n",
    "    <br>\n",
    "    <li>Al tener pocos datos se puede ver reflejado el \"bajo\" accuracy que obtuvimos. Sin embargo, si se incrementara la cantidad de datos en el dataset, podríamos volver a seleccionar otro modelo (o el mismo), y  así obtener mejores resultados.</li>\n",
    "    <br>\n",
    "</p>"
   ]
  },
  {
   "cell_type": "markdown",
   "metadata": {},
   "source": []
  }
 ],
 "metadata": {
  "kernelspec": {
   "display_name": "Python 3.10.4 64-bit",
   "language": "python",
   "name": "python3"
  },
  "language_info": {
   "codemirror_mode": {
    "name": "ipython",
    "version": 3
   },
   "file_extension": ".py",
   "mimetype": "text/x-python",
   "name": "python",
   "nbconvert_exporter": "python",
   "pygments_lexer": "ipython3",
   "version": "3.10.4"
  },
  "orig_nbformat": 4,
  "vscode": {
   "interpreter": {
    "hash": "916dbcbb3f70747c44a77c7bcd40155683ae19c65e1c03b4aa3499c5328201f1"
   }
  }
 },
 "nbformat": 4,
 "nbformat_minor": 2
}
