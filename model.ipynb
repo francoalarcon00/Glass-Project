{
 "cells": [
  {
   "cell_type": "code",
   "execution_count": null,
   "metadata": {},
   "outputs": [],
   "source": [
    "# Importamos librerias necesarias\n",
    "import pandas as pd\n",
    "import numpy as np\n",
    "from sklearn.impute import SimpleImputer\n",
    "from sklearn.preprocessing import OneHotEncoder, StandardScaler, OrdinalEncoder \n",
    "from sklearn.compose import ColumnTransformer\n",
    "from sklearn.pipeline import make_pipeline, Pipeline\n",
    "from sklearn.linear_model import LogisticRegression"
   ]
  },
  {
   "cell_type": "code",
   "execution_count": null,
   "metadata": {},
   "outputs": [],
   "source": [
    "df = pd.read_csv('cleaned_glass.csv')"
   ]
  },
  {
   "cell_type": "code",
   "execution_count": null,
   "metadata": {},
   "outputs": [],
   "source": [
    "# Pipeline datos ordinales \n",
    "# ordinal_pipeline = Pipeline([\n",
    "#     ('imputer', SimpleImputer(strategy='most_frequent')),\n",
    "#     ('encoder', OrdinalEncoder())\n",
    "# ])\n",
    "\n",
    "# # Pipeline datos nominales\n",
    "# nominal_pipeline = Pipeline([\n",
    "#     ('imputer', SimpleImputer(strategy='most_frequent')),\n",
    "#     ('encoder', OneHotEncoder(sparse=True, handle_unknown='ignore'))\n",
    "# ])\n",
    "\n",
    "# # Pipeline datos numericos\n",
    "# numeric_pipeline = Pipeline([\n",
    "#     ('imputer', SimpleImputer(strategy='mean')),\n",
    "#     ('encoder', StandardScaler())\n",
    "# ])\n",
    "\n",
    "# preprocessin_pipeline = ColumnTransformer([\n",
    "#     ('nominal_preprocessor', nominal_pipeline, nominal),\n",
    "#     ('ordinal_preprocessor', ordinal_pipeline, ordinal),\n",
    "#     ('numeric_preprocessor', numeric_pipeline, numerical)\n",
    "# ])\n",
    "\n",
    "# # Create model\n",
    "# model = LinearRegression()\n",
    "\n",
    "# complete_pipeline = Pipeline([\n",
    "#     ('preprocessor', preprocessin_pipeline),\n",
    "#     ('estimator', model)\n",
    "# ])"
   ]
  }
 ],
 "metadata": {
  "kernelspec": {
   "display_name": "Python 3.10.6 64-bit",
   "language": "python",
   "name": "python3"
  },
  "language_info": {
   "codemirror_mode": {
    "name": "ipython",
    "version": 3
   },
   "file_extension": ".py",
   "mimetype": "text/x-python",
   "name": "python",
   "nbconvert_exporter": "python",
   "pygments_lexer": "ipython3",
   "version": "3.10.6"
  },
  "orig_nbformat": 4,
  "vscode": {
   "interpreter": {
    "hash": "afb734500600fd355917ca529030176ea0ca205570884b88f2f6f7d791fd3fbe"
   }
  }
 },
 "nbformat": 4,
 "nbformat_minor": 2
}
